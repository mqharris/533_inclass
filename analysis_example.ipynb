{
 "cells": [
  {
   "cell_type": "markdown",
   "metadata": {},
   "source": [
    "# Plot Subpackage \n",
    "## Description\n",
    "\n",
    "This file provides an example file for the functionality of the analysis subpackage.\n",
    "\n",
    "The analysis subpackage consists of two modules:\n",
    "\n",
    "**datafill.py**\n",
    "\n",
    "This module includes the DataEdit parent class and includes the following:\n",
    "\n",
    "- DataEdit(data)\n",
    "    - creates DataEdit class object with input from a Pandas DataFrame\n",
    "- DataEdit.display()\n",
    "    - getter for the data attribute of the DataEdit instance\n",
    "- DataEdit.columntype(column)\n",
    "    - returns the datatype of the column given (either as a column name or column index)\n",
    "- DataEdit.\\_\\_add__(other)\n",
    "    - appends other (given as pandas.DataFrame) to DataEdit's data\n",
    "- DataEdit.\\_\\_sub__(other)\n",
    "    - removes from DataEdit.data the rows it shares with other (other is given as a pandas.DataFrame object)\n",
    "- DataEdit.rm_duplicates()\n",
    "    - removes duplicates from DataEdit.data\n",
    "- DataEdit.rm_nan()\n",
    "    - removes rows that contain NaN/None values from DataEdit.data\n",
    "- DataEdit.quick_clean()\n",
    "    - removes duplicate rows as well as removes rows with NaN/None values\n",
    "\n",
    "   \n",
    "\n",
    "This DataEdit class is can be used directly or in conjunction with the Lm class.\n",
    "\n",
    "**linear_analysis.py**\n",
    "\n",
    "This module includes the Lm child class of the DataEdit parent class as follows:\n",
    "\n",
    "- Lm(data)\n",
    "    - creates Lm class object with input from a Pandas DataFrame\n",
    "    - methods from DataEdit class inherited\n",
    "- Lm.single_linear(predictor, estimator)\n",
    "    - creates a single linear model between predictor and estimator (predictor is y, estimator is x)\n",
    "    - returns the linear model's prediction on the estimator values\n",
    "- Lm.single_linear_plot(predictor, estimator)\n",
    "    - creates a plot of predictor vs estimator, displays the data as well as the created best fit line\n",
    "- Lm.single_linear_eqn(predictor, estimator)\n",
    "    - fits a single linear model to the predictor vs estimator\n",
    "    - prints the equation of the line"
   ]
  },
  {
   "cell_type": "markdown",
   "metadata": {},
   "source": [
    "## Example\n",
    "\n",
    "Examples use the CarPrice.csv dataset saved in the data folder of this repo"
   ]
  },
  {
   "cell_type": "code",
   "execution_count": 21,
   "metadata": {},
   "outputs": [],
   "source": [
    "import pandas as pd\n",
    "import numpy as np\n",
    "\n",
    "import quickscreen.analysis.datafill as dfl"
   ]
  },
  {
   "cell_type": "markdown",
   "metadata": {},
   "source": [
    "Initializing a DataEdit object"
   ]
  },
  {
   "cell_type": "code",
   "execution_count": 22,
   "metadata": {},
   "outputs": [
    {
     "name": "stdout",
     "output_type": "stream",
     "text": [
      "DataEdit\n"
     ]
    }
   ],
   "source": [
    "df = pd.read_csv(\"./data/CarPrice.csv\")\n",
    "\n",
    "de = dfl.DataEdit(df)\n",
    "\n",
    "print(type(de).__name__)"
   ]
  },
  {
   "cell_type": "markdown",
   "metadata": {},
   "source": [
    "Display example"
   ]
  },
  {
   "cell_type": "code",
   "execution_count": 23,
   "metadata": {},
   "outputs": [
    {
     "data": {
      "text/html": [
       "<div>\n",
       "<style scoped>\n",
       "    .dataframe tbody tr th:only-of-type {\n",
       "        vertical-align: middle;\n",
       "    }\n",
       "\n",
       "    .dataframe tbody tr th {\n",
       "        vertical-align: top;\n",
       "    }\n",
       "\n",
       "    .dataframe thead th {\n",
       "        text-align: right;\n",
       "    }\n",
       "</style>\n",
       "<table border=\"1\" class=\"dataframe\">\n",
       "  <thead>\n",
       "    <tr style=\"text-align: right;\">\n",
       "      <th></th>\n",
       "      <th>CarName</th>\n",
       "      <th>curbweight</th>\n",
       "      <th>enginesize</th>\n",
       "      <th>horsepower</th>\n",
       "      <th>peakrpm</th>\n",
       "      <th>citympg</th>\n",
       "      <th>highwaympg</th>\n",
       "      <th>price</th>\n",
       "    </tr>\n",
       "  </thead>\n",
       "  <tbody>\n",
       "    <tr>\n",
       "      <th>0</th>\n",
       "      <td>alfa-romero giulia</td>\n",
       "      <td>2548</td>\n",
       "      <td>130</td>\n",
       "      <td>111</td>\n",
       "      <td>5000</td>\n",
       "      <td>21</td>\n",
       "      <td>27</td>\n",
       "      <td>13495.0</td>\n",
       "    </tr>\n",
       "    <tr>\n",
       "      <th>1</th>\n",
       "      <td>alfa-romero stelvio</td>\n",
       "      <td>2548</td>\n",
       "      <td>130</td>\n",
       "      <td>111</td>\n",
       "      <td>5000</td>\n",
       "      <td>21</td>\n",
       "      <td>27</td>\n",
       "      <td>16500.0</td>\n",
       "    </tr>\n",
       "    <tr>\n",
       "      <th>2</th>\n",
       "      <td>alfa-romero Quadrifoglio</td>\n",
       "      <td>2823</td>\n",
       "      <td>152</td>\n",
       "      <td>154</td>\n",
       "      <td>5000</td>\n",
       "      <td>19</td>\n",
       "      <td>26</td>\n",
       "      <td>16500.0</td>\n",
       "    </tr>\n",
       "    <tr>\n",
       "      <th>3</th>\n",
       "      <td>audi 100 ls</td>\n",
       "      <td>2337</td>\n",
       "      <td>109</td>\n",
       "      <td>102</td>\n",
       "      <td>5500</td>\n",
       "      <td>24</td>\n",
       "      <td>30</td>\n",
       "      <td>13950.0</td>\n",
       "    </tr>\n",
       "    <tr>\n",
       "      <th>4</th>\n",
       "      <td>audi 100ls</td>\n",
       "      <td>2824</td>\n",
       "      <td>136</td>\n",
       "      <td>115</td>\n",
       "      <td>5500</td>\n",
       "      <td>18</td>\n",
       "      <td>22</td>\n",
       "      <td>17450.0</td>\n",
       "    </tr>\n",
       "  </tbody>\n",
       "</table>\n",
       "</div>"
      ],
      "text/plain": [
       "                    CarName  curbweight  enginesize  horsepower  peakrpm  \\\n",
       "0        alfa-romero giulia        2548         130         111     5000   \n",
       "1       alfa-romero stelvio        2548         130         111     5000   \n",
       "2  alfa-romero Quadrifoglio        2823         152         154     5000   \n",
       "3               audi 100 ls        2337         109         102     5500   \n",
       "4                audi 100ls        2824         136         115     5500   \n",
       "\n",
       "   citympg  highwaympg    price  \n",
       "0       21          27  13495.0  \n",
       "1       21          27  16500.0  \n",
       "2       19          26  16500.0  \n",
       "3       24          30  13950.0  \n",
       "4       18          22  17450.0  "
      ]
     },
     "metadata": {},
     "output_type": "display_data"
    }
   ],
   "source": [
    "display(de.display().head())"
   ]
  },
  {
   "cell_type": "markdown",
   "metadata": {},
   "source": [
    "Getting the data type of a column using index"
   ]
  },
  {
   "cell_type": "code",
   "execution_count": 24,
   "metadata": {},
   "outputs": [
    {
     "name": "stdout",
     "output_type": "stream",
     "text": [
      "enginesize\n",
      "int64\n"
     ]
    }
   ],
   "source": [
    "print(de.data.columns[2])\n",
    "print(de.columntype(2))"
   ]
  },
  {
   "cell_type": "markdown",
   "metadata": {},
   "source": [
    "Getting the data type of a column using the column name"
   ]
  },
  {
   "cell_type": "code",
   "execution_count": 25,
   "metadata": {},
   "outputs": [
    {
     "name": "stdout",
     "output_type": "stream",
     "text": [
      "enginesize\n",
      "int64\n"
     ]
    }
   ],
   "source": [
    "print(de.data.columns[2])\n",
    "print(de.columntype(\"enginesize\"))"
   ]
  },
  {
   "cell_type": "markdown",
   "metadata": {},
   "source": [
    "Now to demonstrate the overloaded addition method"
   ]
  },
  {
   "cell_type": "code",
   "execution_count": 34,
   "metadata": {},
   "outputs": [
    {
     "data": {
      "text/html": [
       "<div>\n",
       "<style scoped>\n",
       "    .dataframe tbody tr th:only-of-type {\n",
       "        vertical-align: middle;\n",
       "    }\n",
       "\n",
       "    .dataframe tbody tr th {\n",
       "        vertical-align: top;\n",
       "    }\n",
       "\n",
       "    .dataframe thead th {\n",
       "        text-align: right;\n",
       "    }\n",
       "</style>\n",
       "<table border=\"1\" class=\"dataframe\">\n",
       "  <thead>\n",
       "    <tr style=\"text-align: right;\">\n",
       "      <th></th>\n",
       "      <th>a</th>\n",
       "      <th>b</th>\n",
       "    </tr>\n",
       "  </thead>\n",
       "  <tbody>\n",
       "    <tr>\n",
       "      <th>0</th>\n",
       "      <td>1</td>\n",
       "      <td>11</td>\n",
       "    </tr>\n",
       "    <tr>\n",
       "      <th>1</th>\n",
       "      <td>2</td>\n",
       "      <td>12</td>\n",
       "    </tr>\n",
       "    <tr>\n",
       "      <th>2</th>\n",
       "      <td>3</td>\n",
       "      <td>13</td>\n",
       "    </tr>\n",
       "  </tbody>\n",
       "</table>\n",
       "</div>"
      ],
      "text/plain": [
       "   a   b\n",
       "0  1  11\n",
       "1  2  12\n",
       "2  3  13"
      ]
     },
     "metadata": {},
     "output_type": "display_data"
    },
    {
     "data": {
      "text/html": [
       "<div>\n",
       "<style scoped>\n",
       "    .dataframe tbody tr th:only-of-type {\n",
       "        vertical-align: middle;\n",
       "    }\n",
       "\n",
       "    .dataframe tbody tr th {\n",
       "        vertical-align: top;\n",
       "    }\n",
       "\n",
       "    .dataframe thead th {\n",
       "        text-align: right;\n",
       "    }\n",
       "</style>\n",
       "<table border=\"1\" class=\"dataframe\">\n",
       "  <thead>\n",
       "    <tr style=\"text-align: right;\">\n",
       "      <th></th>\n",
       "      <th>a</th>\n",
       "      <th>b</th>\n",
       "    </tr>\n",
       "  </thead>\n",
       "  <tbody>\n",
       "    <tr>\n",
       "      <th>0</th>\n",
       "      <td>0</td>\n",
       "      <td>0</td>\n",
       "    </tr>\n",
       "    <tr>\n",
       "      <th>1</th>\n",
       "      <td>1</td>\n",
       "      <td>2</td>\n",
       "    </tr>\n",
       "    <tr>\n",
       "      <th>2</th>\n",
       "      <td>2</td>\n",
       "      <td>4</td>\n",
       "    </tr>\n",
       "  </tbody>\n",
       "</table>\n",
       "</div>"
      ],
      "text/plain": [
       "   a  b\n",
       "0  0  0\n",
       "1  1  2\n",
       "2  2  4"
      ]
     },
     "metadata": {},
     "output_type": "display_data"
    },
    {
     "data": {
      "text/html": [
       "<div>\n",
       "<style scoped>\n",
       "    .dataframe tbody tr th:only-of-type {\n",
       "        vertical-align: middle;\n",
       "    }\n",
       "\n",
       "    .dataframe tbody tr th {\n",
       "        vertical-align: top;\n",
       "    }\n",
       "\n",
       "    .dataframe thead th {\n",
       "        text-align: right;\n",
       "    }\n",
       "</style>\n",
       "<table border=\"1\" class=\"dataframe\">\n",
       "  <thead>\n",
       "    <tr style=\"text-align: right;\">\n",
       "      <th></th>\n",
       "      <th>a</th>\n",
       "      <th>b</th>\n",
       "    </tr>\n",
       "  </thead>\n",
       "  <tbody>\n",
       "    <tr>\n",
       "      <th>0</th>\n",
       "      <td>1</td>\n",
       "      <td>11</td>\n",
       "    </tr>\n",
       "    <tr>\n",
       "      <th>1</th>\n",
       "      <td>2</td>\n",
       "      <td>12</td>\n",
       "    </tr>\n",
       "    <tr>\n",
       "      <th>2</th>\n",
       "      <td>3</td>\n",
       "      <td>13</td>\n",
       "    </tr>\n",
       "    <tr>\n",
       "      <th>3</th>\n",
       "      <td>0</td>\n",
       "      <td>0</td>\n",
       "    </tr>\n",
       "    <tr>\n",
       "      <th>4</th>\n",
       "      <td>1</td>\n",
       "      <td>2</td>\n",
       "    </tr>\n",
       "    <tr>\n",
       "      <th>5</th>\n",
       "      <td>2</td>\n",
       "      <td>4</td>\n",
       "    </tr>\n",
       "  </tbody>\n",
       "</table>\n",
       "</div>"
      ],
      "text/plain": [
       "   a   b\n",
       "0  1  11\n",
       "1  2  12\n",
       "2  3  13\n",
       "3  0   0\n",
       "4  1   2\n",
       "5  2   4"
      ]
     },
     "metadata": {},
     "output_type": "display_data"
    }
   ],
   "source": [
    "# creating demo data\n",
    "data1 = {\n",
    "        \"a\":[1,2,3],\n",
    "        \"b\":[11,12,13]\n",
    "}\n",
    "df = pd.DataFrame(data1, columns=[\"a\", \"b\"])\n",
    "de1 = dfl.DataEdit(df)\n",
    "data2 = {\n",
    "        \"a\":[x for x in range(0, 3)],\n",
    "        \"b\":[2*x for x in range(0, 3)]\n",
    "}\n",
    "df2 = pd.DataFrame(data2, columns=[\"a\", \"b\"])\n",
    "\n",
    "# adding method\n",
    "de2 = de1 + df2\n",
    "\n",
    "display(de1.display())\n",
    "display(df2.head(10))\n",
    "display(de2.display())"
   ]
  },
  {
   "cell_type": "markdown",
   "metadata": {},
   "source": [
    "Example of the subtraction method"
   ]
  },
  {
   "cell_type": "code",
   "execution_count": 41,
   "metadata": {},
   "outputs": [
    {
     "name": "stdout",
     "output_type": "stream",
     "text": [
      "<class 'pandas.core.frame.DataFrame'>\n",
      "               CarName  curbweight  enginesize  horsepower  peakrpm  citympg  \\\n",
      "0   alfa-romero giulia        2548         130         111     5000       21   \n",
      "1  alfa-romero stelvio        2548         130         111     5000       21   \n",
      "\n",
      "   highwaympg    price  \n",
      "0          27  13495.0  \n",
      "1          27  16500.0  \n",
      "(205, 8)\n",
      "(203, 8)\n",
      "we can see that indeed two rows have been subtracted from the data\n"
     ]
    }
   ],
   "source": [
    "# data set up\n",
    "df = pd.read_csv(\"./data/CarPrice.csv\")\n",
    "de = dfl.DataEdit(df)\n",
    "de1 = dfl.DataEdit(df)\n",
    "\n",
    "# select a subset of 2 rows\n",
    "two_row = (df.iloc[0:2])\n",
    "print(type(two_row.iloc[0:1]))\n",
    "print(two_row)\n",
    "\n",
    "# subtract method\n",
    "d = de - two_row\n",
    "print(df.shape)\n",
    "print(d.data.shape)\n",
    "print(\"we can see that indeed two rows have been subtracted from the data\")"
   ]
  },
  {
   "cell_type": "code",
   "execution_count": null,
   "metadata": {},
   "outputs": [],
   "source": []
  }
 ],
 "metadata": {
  "kernelspec": {
   "display_name": "Python 3",
   "language": "python",
   "name": "python3"
  },
  "language_info": {
   "codemirror_mode": {
    "name": "ipython",
    "version": 3
   },
   "file_extension": ".py",
   "mimetype": "text/x-python",
   "name": "python",
   "nbconvert_exporter": "python",
   "pygments_lexer": "ipython3",
   "version": "3.8.3"
  }
 },
 "nbformat": 4,
 "nbformat_minor": 4
}
