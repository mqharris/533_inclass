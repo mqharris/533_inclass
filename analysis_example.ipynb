{
 "cells": [
  {
   "cell_type": "markdown",
   "metadata": {},
   "source": [
    "# Plot Subpackage \n",
    "## Description\n",
    "\n",
    "This file provides an example file for the functionality of the analysis subpackage.\n",
    "\n",
    "The analysis subpackage consists of two modules:\n",
    "\n",
    "**datafill.py**\n",
    "\n",
    "This module includes the DataEdit parent class and includes the following:\n",
    "\n",
    "- DataEdit(data)\n",
    "    - creates DataEdit class object with input from a Pandas DataFrame\n",
    "- DataEdit.display()\n",
    "    - getter for the data attribute of the DataEdit instance\n",
    "- DataEdit.columntype(column)\n",
    "    - returns the datatype of the column given (either as a column name or column index)\n",
    "- DataEdit.\\_\\_add__(other)\n",
    "    - appends other (given as pandas.DataFrame) to DataEdit's data\n",
    "- DataEdit.\\_\\_sub__(other)\n",
    "    - removes from DataEdit.data the rows it shares with other (other is given as a pandas.DataFrame object)\n",
    "- DataEdit.rm_duplicates()\n",
    "    - removes duplicates from DataEdit.data\n",
    "- DataEdit.rm_nan()\n",
    "    - removes rows that contain NaN/None values from DataEdit.data\n",
    "- DataEdit.quick_clean()\n",
    "    - removes duplicate rows as well as removes rows with NaN/None values\n",
    "\n",
    "   \n",
    "\n",
    "This DataEdit class is can be used directly or in conjunction with the Lm class.\n",
    "\n",
    "**linear_analysis.py**\n",
    "\n",
    "This module includes the Lm child class of the DataEdit parent class as follows:\n",
    "\n",
    "- Lm(data)\n",
    "    - creates Lm class object with input from a Pandas DataFrame\n",
    "    - methods from DataEdit class inherited\n",
    "- Lm.single_linear(predictor, estimator)\n",
    "    - creates a single linear model between predictor and estimator (predictor is y, estimator is x)\n",
    "    - returns the linear model's prediction on the estimator values\n",
    "- Lm.single_linear_plot(predictor, estimator)\n",
    "    - creates a plot of predictor vs estimator, displays the data as well as the created best fit line\n",
    "- Lm.single_linear_eqn(predictor, estimator)\n",
    "    - fits a single linear model to the predictor vs estimator\n",
    "    - prints the equation of the line"
   ]
  },
  {
   "cell_type": "code",
   "execution_count": null,
   "metadata": {},
   "outputs": [],
   "source": []
  }
 ],
 "metadata": {
  "kernelspec": {
   "display_name": "Python 3",
   "language": "python",
   "name": "python3"
  },
  "language_info": {
   "codemirror_mode": {
    "name": "ipython",
    "version": 3
   },
   "file_extension": ".py",
   "mimetype": "text/x-python",
   "name": "python",
   "nbconvert_exporter": "python",
   "pygments_lexer": "ipython3",
   "version": "3.8.3"
  }
 },
 "nbformat": 4,
 "nbformat_minor": 4
}
