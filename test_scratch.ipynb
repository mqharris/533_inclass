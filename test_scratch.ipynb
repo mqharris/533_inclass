{
 "metadata": {
  "language_info": {
   "codemirror_mode": {
    "name": "ipython",
    "version": 3
   },
   "file_extension": ".py",
   "mimetype": "text/x-python",
   "name": "python",
   "nbconvert_exporter": "python",
   "pygments_lexer": "ipython3",
   "version": "3.8.5-final"
  },
  "orig_nbformat": 2,
  "kernelspec": {
   "name": "python3",
   "display_name": "Python 3"
  }
 },
 "nbformat": 4,
 "nbformat_minor": 2,
 "cells": [
  {
   "cell_type": "code",
   "execution_count": 10,
   "metadata": {},
   "outputs": [
    {
     "output_type": "stream",
     "name": "stderr",
     "text": [
      "test_all_summary (__main__.TestSummaryStats) ... ok\n",
      "test_missing_summary (__main__.TestSummaryStats) ... ok\n",
      "test_simple_summary (__main__.TestSummaryStats) ... ok\n",
      "test_stats_summary (__main__.TestSummaryStats) ... ok\n",
      "\n",
      "----------------------------------------------------------------------\n",
      "Ran 4 tests in 0.085s\n",
      "\n",
      "OK\n"
     ]
    },
    {
     "output_type": "execute_result",
     "data": {
      "text/plain": [
       "<unittest.main.TestProgram at 0x1524e5cc760>"
      ]
     },
     "metadata": {},
     "execution_count": 10
    }
   ],
   "source": [
    "import unittest\n",
    "import pandas as pd\n",
    "import numpy as np\n",
    "from quickscreen.summary.summary_stats import missing_summary\n",
    "from quickscreen.summary.summary_stats import stats_summary\n",
    "from quickscreen.summary.summary_stats import all_summary\n",
    "from quickscreen.summary.summary_stats import simple_summary\n",
    "\n",
    "\n",
    "class TestSummaryStats(unittest.TestCase):\n",
    "    def setUp(self):\n",
    "        self.df = pd.read_csv(\"./data/Carprice.csv\")\n",
    "        self.df2 = self.df.copy()\n",
    "        self.df2.iloc[0,0] = np.nan\n",
    "        self.df3 = pd.DataFrame(np.arange(100).reshape(10,10))\n",
    "\n",
    "    def tearDown(self):\n",
    "        pass\n",
    "\n",
    "    def test_missing_summary(self):\n",
    "        self.assertIsInstance(missing_summary(self.df), pd.DataFrame)\n",
    "        self.assertEqual(missing_summary(self.df).shape, (8, 2))\n",
    "        self.assertEqual(missing_summary(self.df, type='rows').shape, (205, 2))\n",
    "        self.assertEqual(missing_summary(self.df).sum().sum(), 0)\n",
    "        self.assertEqual(missing_summary(self.df2).loc[:,'count_missing'].sum(), 1)\n",
    "    \n",
    "    def test_stats_summary(self):\n",
    "        test_array1 = np.array([288., 48., 104.])\n",
    "        test_array2 = np.array([16845.,\t23., 3643.])\n",
    "        self.assertIsInstance(stats_summary(self.df), pd.DataFrame)\n",
    "        self.assertEqual(stats_summary(self.df).shape, (7, 3))\n",
    "        self.assertEqual(stats_summary(self.df, type='rows').shape, (205, 3))\n",
    "        self.assertTrue((np.round(stats_summary(self.df).iloc[2,:].values, 0) == test_array1).all())\n",
    "        self.assertTrue((np.round(stats_summary(self.df, type='rows').iloc[200,:].values, 0) == test_array2).all())\n",
    "        \n",
    "    def test_all_summary(self):\n",
    "        self.assertIsInstance(all_summary(self.df), pd.DataFrame)\n",
    "        self.assertEqual(all_summary(self.df).shape, (8, 5))\n",
    "        self.assertEqual(all_summary(self.df, type='rows').shape, (205, 5))\n",
    "        self.assertEqual(all_summary(self.df3).loc[9, 'max'], 99)\n",
    "        self.assertEqual(all_summary(self.df3).loc[0, 'min'], 0)\n",
    "        self.assertEqual(all_summary(self.df3)['mean'].mean(), 49.5)\n",
    "        self.assertEqual(all_summary(self.df2)['count_missing'].sum(), 1)\n",
    "\n",
    "    def test_simple_summary(self):\n",
    "        test_array1 = np.array([205., 205., 0.])\n",
    "        self.assertIsInstance(simple_summary(self.df), pd.DataFrame)\n",
    "        self.assertEqual(simple_summary(self.df).shape, (6, 1))\n",
    "        self.assertTrue((simple_summary(self.df).values.flatten()[3:] == test_array1).all())\n",
    "        self.assertEqual(simple_summary(self.df).isnull().sum().values[0], 3)\n",
    "        \n",
    "unittest.main(argv=[\"\"], verbosity=2, exit=False)"
   ]
  }
 ]
}